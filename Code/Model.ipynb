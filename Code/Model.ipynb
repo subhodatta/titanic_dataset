{
 "cells": [
  {
   "cell_type": "markdown",
   "metadata": {},
   "source": [
    "# Import Libraries"
   ]
  },
  {
   "cell_type": "code",
   "execution_count": 141,
   "metadata": {},
   "outputs": [],
   "source": [
    "import pandas as pd\n",
    "import numpy as np\n",
    "\n",
    "from sklearn.model_selection import train_test_split\n",
    "from sklearn.preprocessing import LabelEncoder\n",
    "from sklearn.model_selection import GridSearchCV\n",
    "from sklearn.preprocessing import StandardScaler, MinMaxScaler\n",
    "\n",
    "from sklearn.ensemble import RandomForestClassifier\n",
    "from sklearn.ensemble import GradientBoostingClassifier\n",
    "\n",
    "from sklearn.metrics import precision_score, recall_score, f1_score, accuracy_score"
   ]
  },
  {
   "cell_type": "markdown",
   "metadata": {},
   "source": [
    "# Read Data"
   ]
  },
  {
   "cell_type": "code",
   "execution_count": 142,
   "metadata": {},
   "outputs": [],
   "source": [
    "titanic_data = pd.read_csv(r\"C:\\Personal Learning\\titanic_dataset_github\\Data\\train.csv\")"
   ]
  },
  {
   "cell_type": "markdown",
   "metadata": {},
   "source": [
    "# Separating Train and Test Data"
   ]
  },
  {
   "cell_type": "code",
   "execution_count": 143,
   "metadata": {},
   "outputs": [],
   "source": [
    "df_X = titanic_data.drop(columns=['Survived'])\n",
    "df_y = titanic_data['Survived']\n",
    "\n",
    "df_X_train, df_X_test, df_y_train, df_y_test = train_test_split(df_X, df_y, test_size=0.2, random_state=42)"
   ]
  },
  {
   "cell_type": "markdown",
   "metadata": {},
   "source": [
    "# Preprocessing"
   ]
  },
  {
   "cell_type": "markdown",
   "metadata": {},
   "source": [
    "## Imputation"
   ]
  },
  {
   "cell_type": "markdown",
   "metadata": {},
   "source": [
    "### Train Data"
   ]
  },
  {
   "cell_type": "code",
   "execution_count": 144,
   "metadata": {},
   "outputs": [
    {
     "data": {
      "text/plain": [
       "PassengerId      0\n",
       "Pclass           0\n",
       "Name             0\n",
       "Sex              0\n",
       "Age            140\n",
       "SibSp            0\n",
       "Parch            0\n",
       "Ticket           0\n",
       "Fare             0\n",
       "Cabin          553\n",
       "Embarked         2\n",
       "dtype: int64"
      ]
     },
     "execution_count": 144,
     "metadata": {},
     "output_type": "execute_result"
    }
   ],
   "source": [
    "df_X_train.isna().sum()"
   ]
  },
  {
   "cell_type": "code",
   "execution_count": 145,
   "metadata": {},
   "outputs": [
    {
     "data": {
      "text/plain": [
       "PassengerId    0\n",
       "Pclass         0\n",
       "Name           0\n",
       "Sex            0\n",
       "Age            0\n",
       "SibSp          0\n",
       "Parch          0\n",
       "Ticket         0\n",
       "Fare           0\n",
       "Cabin          0\n",
       "Embarked       0\n",
       "dtype: int64"
      ]
     },
     "execution_count": 145,
     "metadata": {},
     "output_type": "execute_result"
    }
   ],
   "source": [
    "df_X_train['Age'].fillna(df_X_train['Age'].mean(), inplace=True)\n",
    "df_X_train['Embarked'].fillna(df_X_train['Embarked'].mode()[0], inplace=True)\n",
    "df_X_train['Cabin'].fillna(df_X_train['Cabin'].mode()[0], inplace=True)\n",
    "\n",
    "df_X_train.isna().sum()"
   ]
  },
  {
   "cell_type": "markdown",
   "metadata": {},
   "source": [
    "### Test Data"
   ]
  },
  {
   "cell_type": "code",
   "execution_count": 146,
   "metadata": {},
   "outputs": [
    {
     "data": {
      "text/plain": [
       "PassengerId      0\n",
       "Pclass           0\n",
       "Name             0\n",
       "Sex              0\n",
       "Age             37\n",
       "SibSp            0\n",
       "Parch            0\n",
       "Ticket           0\n",
       "Fare             0\n",
       "Cabin          134\n",
       "Embarked         0\n",
       "dtype: int64"
      ]
     },
     "execution_count": 146,
     "metadata": {},
     "output_type": "execute_result"
    }
   ],
   "source": [
    "df_X_test.isna().sum()"
   ]
  },
  {
   "cell_type": "code",
   "execution_count": 147,
   "metadata": {},
   "outputs": [
    {
     "data": {
      "text/plain": [
       "PassengerId    0\n",
       "Pclass         0\n",
       "Name           0\n",
       "Sex            0\n",
       "Age            0\n",
       "SibSp          0\n",
       "Parch          0\n",
       "Ticket         0\n",
       "Fare           0\n",
       "Cabin          0\n",
       "Embarked       0\n",
       "dtype: int64"
      ]
     },
     "execution_count": 147,
     "metadata": {},
     "output_type": "execute_result"
    }
   ],
   "source": [
    "df_X_test['Age'].fillna(df_X_test['Age'].mean(), inplace=True)\n",
    "df_X_test['Embarked'].fillna(df_X_test['Embarked'].mode()[0], inplace=True)\n",
    "df_X_test['Cabin'].fillna(df_X_test['Cabin'].mode()[0], inplace=True)\n",
    "\n",
    "df_X_test.isna().sum()"
   ]
  },
  {
   "cell_type": "markdown",
   "metadata": {},
   "source": [
    "### Entire Data"
   ]
  },
  {
   "cell_type": "code",
   "execution_count": 148,
   "metadata": {},
   "outputs": [
    {
     "data": {
      "text/plain": [
       "PassengerId      0\n",
       "Pclass           0\n",
       "Name             0\n",
       "Sex              0\n",
       "Age            177\n",
       "SibSp            0\n",
       "Parch            0\n",
       "Ticket           0\n",
       "Fare             0\n",
       "Cabin          687\n",
       "Embarked         2\n",
       "dtype: int64"
      ]
     },
     "execution_count": 148,
     "metadata": {},
     "output_type": "execute_result"
    }
   ],
   "source": [
    "df_X.isna().sum()"
   ]
  },
  {
   "cell_type": "code",
   "execution_count": 149,
   "metadata": {},
   "outputs": [
    {
     "data": {
      "text/plain": [
       "PassengerId    0\n",
       "Pclass         0\n",
       "Name           0\n",
       "Sex            0\n",
       "Age            0\n",
       "SibSp          0\n",
       "Parch          0\n",
       "Ticket         0\n",
       "Fare           0\n",
       "Cabin          0\n",
       "Embarked       0\n",
       "dtype: int64"
      ]
     },
     "execution_count": 149,
     "metadata": {},
     "output_type": "execute_result"
    }
   ],
   "source": [
    "df_X['Age'].fillna(df_X['Age'].mean(), inplace=True)\n",
    "df_X['Embarked'].fillna(df_X['Embarked'].mode()[0], inplace=True)\n",
    "df_X['Cabin'].fillna(df_X['Cabin'].mode()[0], inplace=True)\n",
    "\n",
    "df_X.isna().sum()"
   ]
  },
  {
   "cell_type": "markdown",
   "metadata": {},
   "source": [
    "## Encoding of Categorical Variables"
   ]
  },
  {
   "cell_type": "markdown",
   "metadata": {},
   "source": [
    "### Train Data"
   ]
  },
  {
   "cell_type": "code",
   "execution_count": 150,
   "metadata": {},
   "outputs": [],
   "source": [
    "le = LabelEncoder()\n",
    "\n",
    "df_X_train['Sex_cat'] = le.fit_transform(df_X_train['Sex'])\n",
    "df_X_train['Embarked_cat'] = le.fit_transform(df_X_train['Embarked'])\n",
    "df_X_train['Name_cat'] = le.fit_transform(df_X_train['Name'])\n",
    "df_X_train['Ticket_cat'] = le.fit_transform(df_X_train['Ticket'])\n",
    "df_X_train['Cabin_cat'] = le.fit_transform(df_X_train['Cabin'])"
   ]
  },
  {
   "cell_type": "markdown",
   "metadata": {},
   "source": [
    "### Test Data"
   ]
  },
  {
   "cell_type": "code",
   "execution_count": 151,
   "metadata": {},
   "outputs": [],
   "source": [
    "df_X_test['Sex_cat'] = le.fit_transform(df_X_test['Sex'])\n",
    "df_X_test['Embarked_cat'] = le.fit_transform(df_X_test['Embarked'])\n",
    "df_X_test['Name_cat'] = le.fit_transform(df_X_test['Name'])\n",
    "df_X_test['Ticket_cat'] = le.fit_transform(df_X_test['Ticket'])\n",
    "df_X_test['Cabin_cat'] = le.fit_transform(df_X_test['Cabin'])"
   ]
  },
  {
   "cell_type": "markdown",
   "metadata": {},
   "source": [
    "### Entire Data"
   ]
  },
  {
   "cell_type": "code",
   "execution_count": 152,
   "metadata": {},
   "outputs": [],
   "source": [
    "df_X['Sex_cat'] = le.fit_transform(df_X['Sex'])\n",
    "df_X['Embarked_cat'] = le.fit_transform(df_X['Embarked'])\n",
    "df_X['Name_cat'] = le.fit_transform(df_X['Name'])\n",
    "df_X['Ticket_cat'] = le.fit_transform(df_X['Ticket'])\n",
    "df_X['Cabin_cat'] = le.fit_transform(df_X['Cabin'])"
   ]
  },
  {
   "cell_type": "markdown",
   "metadata": {},
   "source": [
    "# Modelling"
   ]
  },
  {
   "cell_type": "markdown",
   "metadata": {},
   "source": [
    "## Fitting Train Data"
   ]
  },
  {
   "cell_type": "markdown",
   "metadata": {},
   "source": [
    "### Preparing training data"
   ]
  },
  {
   "cell_type": "code",
   "execution_count": 153,
   "metadata": {},
   "outputs": [],
   "source": [
    "X_cols = ['PassengerId', 'Pclass', 'Age', 'SibSp', 'Parch', 'Fare', 'Sex_cat', 'Embarked_cat', 'Name_cat', 'Ticket_cat', 'Cabin_cat']\n",
    "y_cols = ['Survived']\n",
    "\n",
    "standard_scaler = StandardScaler()\n",
    "min_max_scaler = MinMaxScaler()\n",
    "\n",
    "X_train = standard_scaler.fit_transform(df_X_train[X_cols])\n",
    "y_train = df_y_train"
   ]
  },
  {
   "cell_type": "markdown",
   "metadata": {},
   "source": [
    "### Fitting Model on Train Data"
   ]
  },
  {
   "cell_type": "markdown",
   "metadata": {},
   "source": [
    "#### Random Forrest Classifier"
   ]
  },
  {
   "cell_type": "code",
   "execution_count": 154,
   "metadata": {},
   "outputs": [],
   "source": [
    "clf_rfc = RandomForestClassifier()\n",
    "\n",
    "param_grid = [{'n_estimators': [10, 100, 250, 500, 750, 1000]},\n",
    "              {'max_depth': [1, 3, 5, 7, 10, None]},\n",
    "              {'min_samples_split': [2,3,4,5]}]\n",
    "\n",
    "grid_search = GridSearchCV(clf_rfc, param_grid, cv=5, scoring='accuracy', return_train_score=True)\n",
    "grid_search.fit(X_train, y_train)\n",
    "best_params_rfc = grid_search.best_params_"
   ]
  },
  {
   "cell_type": "code",
   "execution_count": 155,
   "metadata": {},
   "outputs": [
    {
     "name": "stdout",
     "output_type": "stream",
     "text": [
      "Training Accuracy:  0.9676966292134831\n",
      "Training Precision:  0.917910447761194\n",
      "Training Recall:  0.9959514170040485\n",
      "Training F1 score:  0.9553398058252427\n"
     ]
    }
   ],
   "source": [
    "final_clf_rfc = grid_search.best_estimator_\n",
    "y_train_pred = final_clf_rfc.predict(X_train)\n",
    "\n",
    "print(\"Training Accuracy: \", accuracy_score(y_train_pred, y_train))\n",
    "print(\"Training Precision: \", precision_score(y_train_pred, y_train))\n",
    "print(\"Training Recall: \", recall_score(y_train_pred, y_train))\n",
    "print(\"Training F1 score: \", f1_score(y_train_pred, y_train))"
   ]
  },
  {
   "cell_type": "markdown",
   "metadata": {},
   "source": [
    "#### Gradient Boosting Classifier"
   ]
  },
  {
   "cell_type": "code",
   "execution_count": 156,
   "metadata": {},
   "outputs": [],
   "source": [
    "clf_gbc = GradientBoostingClassifier()\n",
    "\n",
    "param_grid = [{'n_estimators': [10, 100, 250, 500, 750, 1000, 1500, 2000]},\n",
    "              {'max_depth': [1, 3, 5, 7, 10, None]},\n",
    "              {'min_samples_split': [2,3,4,5]}]\n",
    "\n",
    "grid_search = GridSearchCV(clf_gbc, param_grid, cv=5, scoring='accuracy', return_train_score=True)\n",
    "grid_search.fit(X_train, y_train)\n",
    "best_params_gbc = grid_search.best_params_"
   ]
  },
  {
   "cell_type": "code",
   "execution_count": 157,
   "metadata": {},
   "outputs": [
    {
     "name": "stdout",
     "output_type": "stream",
     "text": [
      "Training Accuracy:  1.0\n",
      "Training Precision:  1.0\n",
      "Training Recall:  1.0\n",
      "Training F1 score:  1.0\n"
     ]
    }
   ],
   "source": [
    "final_clf_gbc = grid_search.best_estimator_\n",
    "y_train_pred = final_clf_gbc.predict(X_train)\n",
    "\n",
    "print(\"Training Accuracy: \", accuracy_score(y_train_pred, y_train))\n",
    "print(\"Training Precision: \", precision_score(y_train_pred, y_train))\n",
    "print(\"Training Recall: \", recall_score(y_train_pred, y_train))\n",
    "print(\"Training F1 score: \", f1_score(y_train_pred, y_train))"
   ]
  },
  {
   "cell_type": "markdown",
   "metadata": {},
   "source": [
    "### Testing Model on Test Data"
   ]
  },
  {
   "cell_type": "markdown",
   "metadata": {},
   "source": [
    "#### Preparing Test Data"
   ]
  },
  {
   "cell_type": "code",
   "execution_count": 158,
   "metadata": {},
   "outputs": [],
   "source": [
    "X_test = standard_scaler.fit_transform(df_X_test[X_cols])\n",
    "y_test = df_y_test"
   ]
  },
  {
   "cell_type": "markdown",
   "metadata": {},
   "source": [
    "#### Random Forrest Classifier"
   ]
  },
  {
   "cell_type": "code",
   "execution_count": 159,
   "metadata": {},
   "outputs": [
    {
     "name": "stdout",
     "output_type": "stream",
     "text": [
      "Test Accuracy:  0.8268156424581006\n",
      "Test Precision:  0.8307692307692308\n",
      "Test Recall:  0.7297297297297297\n",
      "Test F1 score:  0.7769784172661871\n"
     ]
    }
   ],
   "source": [
    "y_pred = final_clf_rfc.predict(X_test)\n",
    "\n",
    "print(\"Test Accuracy: \", accuracy_score(y_test, y_pred))\n",
    "print(\"Test Precision: \", precision_score(y_test, y_pred))\n",
    "print(\"Test Recall: \", recall_score(y_test, y_pred))\n",
    "print(\"Test F1 score: \", f1_score(y_test, y_pred))"
   ]
  },
  {
   "cell_type": "markdown",
   "metadata": {},
   "source": [
    "#### Gradient Boosting Classifier"
   ]
  },
  {
   "cell_type": "code",
   "execution_count": 160,
   "metadata": {},
   "outputs": [
    {
     "name": "stdout",
     "output_type": "stream",
     "text": [
      "Test Accuracy:  0.7988826815642458\n",
      "Test Precision:  0.8653846153846154\n",
      "Test Recall:  0.6081081081081081\n",
      "Test F1 score:  0.7142857142857144\n"
     ]
    }
   ],
   "source": [
    "y_pred = final_clf_gbc.predict(X_test)\n",
    "\n",
    "print(\"Test Accuracy: \", accuracy_score(y_test, y_pred))\n",
    "print(\"Test Precision: \", precision_score(y_test, y_pred))\n",
    "print(\"Test Recall: \", recall_score(y_test, y_pred))\n",
    "print(\"Test F1 score: \", f1_score(y_test, y_pred))"
   ]
  },
  {
   "cell_type": "markdown",
   "metadata": {},
   "source": [
    "# Final Model"
   ]
  },
  {
   "cell_type": "markdown",
   "metadata": {},
   "source": [
    "## Fitting Model on Entire Data"
   ]
  },
  {
   "cell_type": "code",
   "execution_count": 174,
   "metadata": {},
   "outputs": [],
   "source": [
    "X = standard_scaler.fit_transform(df_X[X_cols])\n",
    "y = df_y\n",
    "final_clf = final_clf_gbc\n",
    "\n",
    "# final_clf = RandomForestClassifier()\n",
    "# param_grid = best_params_rfc\n",
    "\n",
    "# param_grid = [{'n_estimators': [10, 100, 250, 500, 750, 1000]},\n",
    "#               {'max_depth': [1, 3, 5, 7, 10, None]},\n",
    "#               {'min_samples_split': [2,3,4,5]}]\n",
    "\n",
    "# # clf_final = GradientBoostingClassifier()\n",
    "# # param_grid = [{'n_estimators': [10, 100, 250, 500, 750, 1000, 1500, 2000]},\n",
    "# #               {'max_depth': [1, 3, 5, 7, 10, None]},\n",
    "# #               {'min_samples_split': [2,3,4,5]}]\n",
    "\n",
    "\n",
    "# grid_search = GridSearchCV(clf_final, param_grid, cv=5, scoring='accuracy', return_train_score=True)\n",
    "# grid_search.fit(X, y)\n",
    "\n",
    "# final_clf = grid_search.best_estimator_\n",
    "# final_clf"
   ]
  },
  {
   "cell_type": "markdown",
   "metadata": {},
   "source": [
    "# Output Prediction on Kaggle Test Data"
   ]
  },
  {
   "cell_type": "markdown",
   "metadata": {},
   "source": [
    "## Read Kaggle Test Data"
   ]
  },
  {
   "cell_type": "code",
   "execution_count": 175,
   "metadata": {},
   "outputs": [],
   "source": [
    "titanic_test_data = pd.read_csv(r\"C:\\Personal Learning\\titanic_dataset_github\\Data\\test.csv\")"
   ]
  },
  {
   "cell_type": "markdown",
   "metadata": {},
   "source": [
    "## Preprocessing"
   ]
  },
  {
   "cell_type": "markdown",
   "metadata": {},
   "source": [
    "### Imputation"
   ]
  },
  {
   "cell_type": "code",
   "execution_count": 176,
   "metadata": {},
   "outputs": [
    {
     "data": {
      "text/plain": [
       "PassengerId      0\n",
       "Pclass           0\n",
       "Name             0\n",
       "Sex              0\n",
       "Age             86\n",
       "SibSp            0\n",
       "Parch            0\n",
       "Ticket           0\n",
       "Fare             1\n",
       "Cabin          327\n",
       "Embarked         0\n",
       "dtype: int64"
      ]
     },
     "execution_count": 176,
     "metadata": {},
     "output_type": "execute_result"
    }
   ],
   "source": [
    "titanic_test_data.isna().sum()"
   ]
  },
  {
   "cell_type": "code",
   "execution_count": 177,
   "metadata": {},
   "outputs": [
    {
     "data": {
      "text/plain": [
       "PassengerId    0\n",
       "Pclass         0\n",
       "Name           0\n",
       "Sex            0\n",
       "Age            0\n",
       "SibSp          0\n",
       "Parch          0\n",
       "Ticket         0\n",
       "Fare           0\n",
       "Cabin          0\n",
       "Embarked       0\n",
       "dtype: int64"
      ]
     },
     "execution_count": 177,
     "metadata": {},
     "output_type": "execute_result"
    }
   ],
   "source": [
    "titanic_test_data['Fare'].fillna(titanic_test_data['Fare'].mean(), inplace=True)\n",
    "titanic_test_data['Age'].fillna(titanic_test_data['Age'].mean(), inplace=True)\n",
    "titanic_test_data['Embarked'].fillna(titanic_test_data['Embarked'].mode()[0], inplace=True)\n",
    "titanic_test_data['Cabin'].fillna(titanic_test_data['Cabin'].mode()[0], inplace=True)\n",
    "\n",
    "titanic_test_data.isna().sum()"
   ]
  },
  {
   "cell_type": "markdown",
   "metadata": {},
   "source": [
    "### Encoding of Categorical Variables"
   ]
  },
  {
   "cell_type": "code",
   "execution_count": 178,
   "metadata": {},
   "outputs": [],
   "source": [
    "titanic_test_data['Sex_cat'] = le.fit_transform(titanic_test_data['Sex'])\n",
    "titanic_test_data['Embarked_cat'] = le.fit_transform(titanic_test_data['Embarked'])\n",
    "titanic_test_data['Name_cat'] = le.fit_transform(titanic_test_data['Name'])\n",
    "titanic_test_data['Ticket_cat'] = le.fit_transform(titanic_test_data['Ticket'])\n",
    "titanic_test_data['Cabin_cat'] = le.fit_transform(titanic_test_data['Cabin'])"
   ]
  },
  {
   "cell_type": "markdown",
   "metadata": {},
   "source": [
    "## Final Prediction"
   ]
  },
  {
   "cell_type": "code",
   "execution_count": 179,
   "metadata": {},
   "outputs": [],
   "source": [
    "X_pred = standard_scaler.fit_transform(titanic_test_data[X_cols])\n",
    "y_pred = final_clf.predict(X_pred)"
   ]
  },
  {
   "cell_type": "markdown",
   "metadata": {},
   "source": [
    "## Kaggle Output Format"
   ]
  },
  {
   "cell_type": "code",
   "execution_count": 180,
   "metadata": {},
   "outputs": [],
   "source": [
    "final_output = pd.DataFrame(titanic_test_data['PassengerId'])\n",
    "final_output['Survived'] = y_pred\n",
    "\n",
    "final_output.to_csv(r\"C:\\Personal Learning\\titanic_dataset_github\\Output\\titanic_pred_v4.csv\", index=False)"
   ]
  },
  {
   "cell_type": "code",
   "execution_count": null,
   "metadata": {},
   "outputs": [],
   "source": []
  }
 ],
 "metadata": {
  "kernelspec": {
   "display_name": "base",
   "language": "python",
   "name": "python3"
  },
  "language_info": {
   "codemirror_mode": {
    "name": "ipython",
    "version": 3
   },
   "file_extension": ".py",
   "mimetype": "text/x-python",
   "name": "python",
   "nbconvert_exporter": "python",
   "pygments_lexer": "ipython3",
   "version": "3.11.7"
  }
 },
 "nbformat": 4,
 "nbformat_minor": 2
}
